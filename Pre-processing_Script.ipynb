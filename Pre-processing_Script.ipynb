{
 "cells": [
  {
   "cell_type": "code",
   "execution_count": 2,
   "id": "d6f3955e-7fc2-4b72-ab26-597c8c3ea5ac",
   "metadata": {},
   "outputs": [],
   "source": [
    "import os\n",
    "import pandas as pd\n",
    "from scipy.signal import butter, filtfilt\n",
    "\n",
    "def butter_bandpass_filter(data, high_cutoff, sampling_freq):\n",
    "    nyquist_freq = 0.5 * sampling_freq\n",
    "    high_cutoff_norm = high_cutoff / nyquist_freq\n",
    "    b, a = butter(N=4, Wn=high_cutoff_norm, btype='lowpass')\n",
    "    filtered_data = filtfilt(b, a, data)\n",
    "    return filtered_data\n",
    "\n",
    "def apply_moving_average(data, window_size):\n",
    "    return data.rolling(window=window_size, min_periods=1).mean()\n",
    "\n",
    "# Define the parameters\n",
    "sampling_freq = 250 # this is sampling frequency for IIST BCI Dataset\n",
    "high_cutoff = 50 \n",
    "window_size = 5\n",
    "\n",
    "# Input and output directories\n",
    "input_dir = \"C:/Users/sgt17/Desktop/Marathi-English Vocal/MUMMY_CSV_Files\"  # Path to the folder containing input CSV files\n",
    "output_dir = \"C:/Users/sgt17/Desktop/Marathi-English Vocal/MUMMY_A-N_Filtered\"  # Path to the folder where filtered CSV files will be saved\n",
    "\n",
    "# Create the output directory if it doesn't exist\n",
    "if not os.path.exists(output_dir):\n",
    "    os.makedirs(output_dir)\n",
    "\n",
    "# Process each CSV file in the input directory\n",
    "for filename in os.listdir(input_dir):\n",
    "    if filename.endswith('.csv'):\n",
    "        input_path = os.path.join(input_dir, filename)\n",
    "        output_path = os.path.join(output_dir, filename)\n",
    "        \n",
    "        # Load EEG data from CSV file\n",
    "        eeg_data = pd.read_csv(input_path)\n",
    "        \n",
    "        # Ignore columns 1 and 10 as they are not EEG data\n",
    "        eeg_data = eeg_data.drop(columns=eeg_data.columns[[0, 9]])\n",
    "        \n",
    "        # Apply bandpass filter to remove frequencies greater than 50 Hz\n",
    "        for col in eeg_data.columns:\n",
    "            eeg_data[col] = butter_bandpass_filter(eeg_data[col], high_cutoff, sampling_freq)\n",
    "        \n",
    "        # Apply moving average filter to remove artifacts\n",
    "        for col in eeg_data.columns:\n",
    "            eeg_data[col] = apply_moving_average(eeg_data[col], window_size)\n",
    "        \n",
    "        # Save the filtered EEG data to a new CSV file\n",
    "        eeg_data.to_csv(output_path, index=False)\n"
   ]
  },
  {
   "cell_type": "markdown",
   "id": "34420e92-79d5-4ddc-8ded-17776bc5f78f",
   "metadata": {},
   "source": [
    "# Explanation"
   ]
  },
  {
   "cell_type": "markdown",
   "id": "49f7ab37-ceaa-4266-9080-d58f56633756",
   "metadata": {},
   "source": [
    "The goal is to remove noise and artifacts from the EEG signals using butterworth low pass  and moving average filters.\n",
    "\n",
    "Here's an explanation of the script:\n",
    "\n",
    "1. Importing Libraries : The script imports necessary libraries including `os` for file operations, `pandas` for data manipulation, and `butter` and `filtfilt` functions from `scipy.signal` for applying the Butterworth filter.\n",
    "\n",
    "2. butter_bandpass_filter Function: This function implements a Butterworth bandpass filter to remove frequencies higher than the specified cutoff frequency (`high_cutoff`). It takes the EEG data, cutoff frequency, and sampling frequency as input and returns the filtered data.\n",
    "\n",
    "3. apply_moving_average Function: This function applies a moving average filter to smooth out the EEG signals and remove artifacts. It takes the EEG data and the window size for the moving average as input and returns the filtered data.\n",
    "\n",
    "4. Define Parameters: The script defines parameters such as the sampling frequency (`sampling_freq`), high cutoff frequency (`high_cutoff`), and window size for the moving average filter (`window_size`).\n",
    "\n",
    "5. Input and Output Directories: Paths to the input directory containing the raw CSV files and the output directory where filtered CSV files will be saved are defined.\n",
    "\n",
    "6. Processing CSV Files: The script iterates through each CSV file in the input directory. For each file:\n",
    "   - EEG data is loaded from the CSV file.\n",
    "   - Columns that are not EEG data (e.g., timestamps) are dropped.\n",
    "   - The Butterworth bandpass filter is applied to each EEG channel to remove high-frequency noise.\n",
    "   - The moving average filter is applied to smooth out the signals and remove artifacts.\n",
    "   - The filtered EEG data is saved to a new CSV file in the output directory.\n",
    "\n",
    "By applying these filters, the script aims to preprocess the EEG data and enhance its quality for further analysis, such as feature extraction and classification."
   ]
  },
  {
   "cell_type": "markdown",
   "id": "cf3573e0-49f1-453a-8b7f-b38fc75f358e",
   "metadata": {},
   "source": [
    "# Information on Filters"
   ]
  },
  {
   "cell_type": "markdown",
   "id": "891c11a8-cbe0-4a45-ae62-a6e92d71305d",
   "metadata": {},
   "source": [
    "1) Butter-worth low-pass filter is type of signal processing filter used to attenuate higher frequency components of signal while allowing lower frequency components to pass through minimal distortion. This gives maximally flat frequency response.\n",
    "   \n",
    "2) The moving average filter is a simple technique used to smooth out time-series data by averaging neighboring data points within a specified window.\n",
    "\n",
    "3) When we apply filter to EEG data, we are essentially applying it directly to time domain voltage values. The process of applying filter involves convolving time domain signal with impulse response of filter which effectively removes certain frequency copmponents. This is done internally, we dont need to explicitly convert data into frequency domain."
   ]
  }
 ],
 "metadata": {
  "kernelspec": {
   "display_name": "Python 3 (ipykernel)",
   "language": "python",
   "name": "python3"
  },
  "language_info": {
   "codemirror_mode": {
    "name": "ipython",
    "version": 3
   },
   "file_extension": ".py",
   "mimetype": "text/x-python",
   "name": "python",
   "nbconvert_exporter": "python",
   "pygments_lexer": "ipython3",
   "version": "3.11.7"
  }
 },
 "nbformat": 4,
 "nbformat_minor": 5
}
