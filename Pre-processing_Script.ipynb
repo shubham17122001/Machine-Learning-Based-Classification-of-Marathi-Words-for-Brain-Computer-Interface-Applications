{
 "cells": [
  {
   "cell_type": "code",
   "execution_count": 2,
   "id": "d6f3955e-7fc2-4b72-ab26-597c8c3ea5ac",
   "metadata": {},
   "outputs": [],
   "source": [
    "import os\n",
    "import pandas as pd\n",
    "from scipy.signal import butter, filtfilt\n",
    "\n",
    "def butter_bandpass_filter(data, high_cutoff, sampling_freq):\n",
    "    nyquist_freq = 0.5 * sampling_freq\n",
    "    high_cutoff_norm = high_cutoff / nyquist_freq\n",
    "    b, a = butter(N=4, Wn=high_cutoff_norm, btype='lowpass')\n",
    "    filtered_data = filtfilt(b, a, data)\n",
    "    return filtered_data\n",
    "\n",
    "def apply_moving_average(data, window_size):\n",
    "    return data.rolling(window=window_size, min_periods=1).mean()\n",
    "\n",
    "# Define the parameters\n",
    "sampling_freq = 250 # this is sampling frequency for IIST BCI Dataset\n",
    "high_cutoff = 50 \n",
    "window_size = 5\n",
    "\n",
    "# Input and output directories\n",
    "input_dir = \"C:/Users/sgt17/Desktop/Marathi-English Vocal/MUMMY_CSV_Files\"  # Path to the folder containing input CSV files\n",
    "output_dir = \"C:/Users/sgt17/Desktop/Marathi-English Vocal/MUMMY_A-N_Filtered\"  # Path to the folder where filtered CSV files will be saved\n",
    "\n",
    "# Create the output directory if it doesn't exist\n",
    "if not os.path.exists(output_dir):\n",
    "    os.makedirs(output_dir)\n",
    "\n",
    "# Process each CSV file in the input directory\n",
    "for filename in os.listdir(input_dir):\n",
    "    if filename.endswith('.csv'):\n",
    "        input_path = os.path.join(input_dir, filename)\n",
    "        output_path = os.path.join(output_dir, filename)\n",
    "        \n",
    "        # Load EEG data from CSV file\n",
    "        eeg_data = pd.read_csv(input_path)\n",
    "        \n",
    "        # Ignore columns 1 and 10 as they are not EEG data\n",
    "        eeg_data = eeg_data.drop(columns=eeg_data.columns[[0, 9]])\n",
    "        \n",
    "        # Apply bandpass filter to remove frequencies greater than 50 Hz\n",
    "        for col in eeg_data.columns:\n",
    "            eeg_data[col] = butter_bandpass_filter(eeg_data[col], high_cutoff, sampling_freq)\n",
    "        \n",
    "        # Apply moving average filter to remove artifacts\n",
    "        for col in eeg_data.columns:\n",
    "            eeg_data[col] = apply_moving_average(eeg_data[col], window_size)\n",
    "        \n",
    "        # Save the filtered EEG data to a new CSV file\n",
    "        eeg_data.to_csv(output_path, index=False)\n"
   ]
  },
  {
   "cell_type": "code",
   "execution_count": null,
   "id": "fcd82c81-72b2-483d-a9fc-2506bbfbe769",
   "metadata": {},
   "outputs": [],
   "source": []
  }
 ],
 "metadata": {
  "kernelspec": {
   "display_name": "Python 3 (ipykernel)",
   "language": "python",
   "name": "python3"
  },
  "language_info": {
   "codemirror_mode": {
    "name": "ipython",
    "version": 3
   },
   "file_extension": ".py",
   "mimetype": "text/x-python",
   "name": "python",
   "nbconvert_exporter": "python",
   "pygments_lexer": "ipython3",
   "version": "3.11.7"
  }
 },
 "nbformat": 4,
 "nbformat_minor": 5
}
