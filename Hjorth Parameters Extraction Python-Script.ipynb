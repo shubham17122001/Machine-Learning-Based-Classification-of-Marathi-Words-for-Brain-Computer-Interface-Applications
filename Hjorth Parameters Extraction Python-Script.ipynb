{
 "cells": [
  {
   "cell_type": "markdown",
   "id": "28999aea-d5cf-455b-8bbd-32d0619af34e",
   "metadata": {},
   "source": [
    "# Hjorth Parameter Extraction"
   ]
  },
  {
   "cell_type": "code",
   "execution_count": 2,
   "id": "f3073e43-c393-4f26-86c1-bfb20fbc1395",
   "metadata": {
    "scrolled": true
   },
   "outputs": [
    {
     "name": "stdout",
     "output_type": "stream",
     "text": [
      "Hjorth parameters saved to: C:/Users/sgt17/Desktop/Marathi trial 1(1-25 words)\\BATH_hjorth_parameters.csv\n",
      "Hjorth parameters saved to: C:/Users/sgt17/Desktop/Marathi trial 1(1-25 words)\\BROTHER_hjorth_parameters.csv\n",
      "Hjorth parameters saved to: C:/Users/sgt17/Desktop/Marathi trial 1(1-25 words)\\COLD_hjorth_parameters.csv\n",
      "Hjorth parameters saved to: C:/Users/sgt17/Desktop/Marathi trial 1(1-25 words)\\DOCTOR_hjorth_parameters.csv\n",
      "Hjorth parameters saved to: C:/Users/sgt17/Desktop/Marathi trial 1(1-25 words)\\DOOR_hjorth_parameters.csv\n",
      "Hjorth parameters saved to: C:/Users/sgt17/Desktop/Marathi trial 1(1-25 words)\\FEVER_hjorth_parameters.csv\n",
      "Hjorth parameters saved to: C:/Users/sgt17/Desktop/Marathi trial 1(1-25 words)\\FOOD_hjorth_parameters.csv\n",
      "Hjorth parameters saved to: C:/Users/sgt17/Desktop/Marathi trial 1(1-25 words)\\HAND_hjorth_parameters.csv\n",
      "Hjorth parameters saved to: C:/Users/sgt17/Desktop/Marathi trial 1(1-25 words)\\HEADACHE_hjorth_parameters.csv\n",
      "Hjorth parameters saved to: C:/Users/sgt17/Desktop/Marathi trial 1(1-25 words)\\HELP_hjorth_parameters.csv\n",
      "Hjorth parameters saved to: C:/Users/sgt17/Desktop/Marathi trial 1(1-25 words)\\HOT_hjorth_parameters.csv\n",
      "Hjorth parameters saved to: C:/Users/sgt17/Desktop/Marathi trial 1(1-25 words)\\KEEP_hjorth_parameters.csv\n",
      "Hjorth parameters saved to: C:/Users/sgt17/Desktop/Marathi trial 1(1-25 words)\\LEG_hjorth_parameters.csv\n",
      "Hjorth parameters saved to: C:/Users/sgt17/Desktop/Marathi trial 1(1-25 words)\\LIFT_hjorth_parameters.csv\n",
      "Hjorth parameters saved to: C:/Users/sgt17/Desktop/Marathi trial 1(1-25 words)\\LISTEN_hjorth_parameters.csv\n",
      "Hjorth parameters saved to: C:/Users/sgt17/Desktop/Marathi trial 1(1-25 words)\\MEDICINE_hjorth_parameters.csv\n",
      "Hjorth parameters saved to: C:/Users/sgt17/Desktop/Marathi trial 1(1-25 words)\\MORNING_hjorth_parameters.csv\n",
      "Hjorth parameters saved to: C:/Users/sgt17/Desktop/Marathi trial 1(1-25 words)\\MUMMY_hjorth_parameters.csv\n",
      "Hjorth parameters saved to: C:/Users/sgt17/Desktop/Marathi trial 1(1-25 words)\\MUSCLE_hjorth_parameters.csv\n",
      "Hjorth parameters saved to: C:/Users/sgt17/Desktop/Marathi trial 1(1-25 words)\\PAPA_hjorth_parameters.csv\n",
      "Hjorth parameters saved to: C:/Users/sgt17/Desktop/Marathi trial 1(1-25 words)\\SONG_hjorth_parameters.csv\n",
      "Hjorth parameters saved to: C:/Users/sgt17/Desktop/Marathi trial 1(1-25 words)\\STOP_hjorth_parameters.csv\n",
      "Hjorth parameters saved to: C:/Users/sgt17/Desktop/Marathi trial 1(1-25 words)\\TIME_hjorth_parameters.csv\n",
      "Hjorth parameters saved to: C:/Users/sgt17/Desktop/Marathi trial 1(1-25 words)\\TOILET_hjorth_parameters.csv\n",
      "Hjorth parameters saved to: C:/Users/sgt17/Desktop/Marathi trial 1(1-25 words)\\WATER_hjorth_parameters.csv\n"
     ]
    }
   ],
   "source": [
    "import os\n",
    "import pandas as pd\n",
    "import numpy as np\n",
    "\n",
    "def hjorth_activity(signal):\n",
    "    return np.var(signal)\n",
    "\n",
    "def hjorth_mobility(signal):\n",
    "    diff_signal = np.diff(signal)\n",
    "    return np.sqrt(np.var(diff_signal) / np.var(signal))\n",
    "\n",
    "def hjorth_complexity(signal):\n",
    "    diff_signal_1 = np.diff(signal)\n",
    "    diff_signal_2 = np.diff(diff_signal_1)\n",
    "    return np.sqrt((np.var(diff_signal_2) / np.var(diff_signal_1)) / (np.var(diff_signal_1) / np.var(signal)))\n",
    "\n",
    "# Input and output directories\n",
    "input_dir = \"C:/Users/sgt17/Desktop/Marathi trial 1(1-25 words)\"   # Path to the folder containing input CSV files\n",
    "output_dir = \"C:/Users/sgt17/Desktop/Marathi trial 1(1-25 words)\" # Path to the folder where Hjorth parameters CSV files will be saved\n",
    "\n",
    "# Create the output directory if it doesn't exist\n",
    "if not os.path.exists(output_dir):\n",
    "    os.makedirs(output_dir)\n",
    "\n",
    "# Process each CSV file in the input directory\n",
    "for filename in os.listdir(input_dir):\n",
    "    if filename.endswith('.csv'):\n",
    "        input_path = os.path.join(input_dir, filename)\n",
    "        \n",
    "        # Load EEG data from CSV file\n",
    "        eeg_data = pd.read_csv(input_path)\n",
    "        \n",
    "        # Get the column names of EEG channels\n",
    "        channel_columns = [col for col in eeg_data.columns if 'Channel' in col]\n",
    "\n",
    "        hjorth_parameters = {}\n",
    "\n",
    "        # Iterate over each channel\n",
    "        for channel_name in channel_columns:\n",
    "            channel_data = eeg_data[channel_name].values\n",
    "            \n",
    "            # Calculate Hjorth parameters for the channel\n",
    "            activity = hjorth_activity(channel_data)\n",
    "            mobility = hjorth_mobility(channel_data)\n",
    "            complexity = hjorth_complexity(channel_data)\n",
    "            \n",
    "            hjorth_parameters[channel_name] = {'Activity': activity, 'Mobility': mobility, 'Complexity': complexity}\n",
    "\n",
    "        # Create a DataFrame from the calculated parameters\n",
    "        hjorth_df = pd.DataFrame.from_dict(hjorth_parameters, orient='index')\n",
    "\n",
    "        # Save the DataFrame to a new CSV file\n",
    "        output_filename = os.path.splitext(filename)[0] + '_hjorth_parameters.csv'\n",
    "        output_path = os.path.join(output_dir, output_filename)\n",
    "        hjorth_df.to_csv(output_path)\n",
    "\n",
    "        print(f\"Hjorth parameters saved to: {output_path}\")\n"
   ]
  }
 ],
 "metadata": {
  "kernelspec": {
   "display_name": "Python 3 (ipykernel)",
   "language": "python",
   "name": "python3"
  },
  "language_info": {
   "codemirror_mode": {
    "name": "ipython",
    "version": 3
   },
   "file_extension": ".py",
   "mimetype": "text/x-python",
   "name": "python",
   "nbconvert_exporter": "python",
   "pygments_lexer": "ipython3",
   "version": "3.11.7"
  }
 },
 "nbformat": 4,
 "nbformat_minor": 5
}
